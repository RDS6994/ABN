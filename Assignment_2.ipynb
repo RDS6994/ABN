{
  "nbformat": 4,
  "nbformat_minor": 0,
  "metadata": {
    "colab": {
      "provenance": []
    },
    "kernelspec": {
      "name": "python3",
      "display_name": "Python 3"
    },
    "language_info": {
      "name": "python"
    }
  },
  "cells": [
    {
      "cell_type": "code",
      "execution_count": null,
      "metadata": {
        "id": "EJmX4dEHBNc1"
      },
      "outputs": [],
      "source": [
        "!pip install flask-ngrok\n",
        "!pip install flask-restful"
      ]
    },
    {
      "cell_type": "code",
      "source": [
        "#importing the right packages\n",
        "from flask import Flask\n",
        "from flask_ngrok import run_with_ngrok\n",
        "from flask_restful import Resource, Api, reqparse\n",
        "from flask import request\n",
        "import pandas as pd\n",
        "import ast"
      ],
      "metadata": {
        "id": "4BixMoiIBTZW"
      },
      "execution_count": null,
      "outputs": []
    },
    {
      "cell_type": "code",
      "source": [
        "appel = Flask(__name__)\n",
        "run_with_ngrok(appel)"
      ],
      "metadata": {
        "id": "k37L1y-oBVtv"
      },
      "execution_count": null,
      "outputs": []
    },
    {
      "cell_type": "code",
      "source": [
        "@appel.route(\"/\", methods=['GET', 'POST'])\n",
        "def home():\n",
        "    if request.method == 'GET':\n",
        "      df = pd.read_csv('avg_age_country.txt')\n",
        "      df = df[df.avg == df.avg.min()]\n",
        "      data = df.to_dict()\n",
        "      return {'data': data}"
      ],
      "metadata": {
        "id": "_Lfw4tbyBaCw"
      },
      "execution_count": null,
      "outputs": []
    },
    {
      "cell_type": "markdown",
      "source": [
        "The GET command works fine. It will return the country (or countries) with the youngest average coding age. "
      ],
      "metadata": {
        "id": "Dot9ljjzTFNv"
      }
    },
    {
      "cell_type": "code",
      "source": [
        "    else:\n",
        "      parser = reqparse.RequestParser()\n",
        "      parser.add_argument('Country', required=True)\n",
        "      args = parser.parse_args()\n",
        "\n",
        "      data = pd.read_csv('avg_age_country.txt')\n",
        "      new_data = data[data.country == args['Country']]\n",
        "      return {'data': new_data.to_dict()}"
      ],
      "metadata": {
        "id": "h_uNicj4Sr0q"
      },
      "execution_count": null,
      "outputs": []
    },
    {
      "cell_type": "markdown",
      "source": [
        "I couldn't get the POST command working. I have tried multiple packages but this is the best I could create. I have tried multiple approaches for four hours. Usually this would be the point where I would ask a collegue to take a look at my code. "
      ],
      "metadata": {
        "id": "GZdP54ISTaQ5"
      }
    },
    {
      "cell_type": "code",
      "source": [
        "appel.run()"
      ],
      "metadata": {
        "id": "rSK_E-tZB7FI"
      },
      "execution_count": null,
      "outputs": []
    }
  ]
}