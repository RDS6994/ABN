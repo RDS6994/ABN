{
  "nbformat": 4,
  "nbformat_minor": 0,
  "metadata": {
    "colab": {
      "provenance": [],
      "collapsed_sections": []
    },
    "kernelspec": {
      "name": "python3",
      "display_name": "Python 3"
    },
    "language_info": {
      "name": "python"
    }
  },
  "cells": [
    {
      "cell_type": "code",
      "execution_count": 1,
      "metadata": {
        "id": "g1YYN2KPLXvD"
      },
      "outputs": [],
      "source": [
        "#importing the right packages\n",
        "import pandas as pd\n",
        "import numpy as np\n",
        "import seaborn as sns\n",
        "import matplotlib.pyplot as plt\n",
        "from sklearn.linear_model import LinearRegression\n",
        "import seaborn as sns\n",
        "import statsmodels.api as sm"
      ]
    },
    {
      "cell_type": "code",
      "source": [
        "#data comes from the SQL database\n",
        "df = pd.read_csv('avg_age_country.txt')\n",
        "df.info()"
      ],
      "metadata": {
        "id": "pRjbMAKuLlQ5"
      },
      "execution_count": null,
      "outputs": []
    },
    {
      "cell_type": "code",
      "source": [
        "X = df.iloc[:,1].values.reshape(-1, 1)\n",
        "Y = df.iloc[:,2].values.reshape(-1, 1)"
      ],
      "metadata": {
        "id": "-CL8-KgJL4T6"
      },
      "execution_count": 32,
      "outputs": []
    },
    {
      "cell_type": "code",
      "source": [
        "model = LinearRegression().fit(X, Y) \n",
        "\n",
        "r_sq = model.score(X, Y)\n",
        "print('coefficient of determination:', r_sq)\n",
        "\n",
        "print('intercept:', model.intercept_)\n",
        "\n",
        "print('slope:', model.coef_) \n",
        "\n",
        "y_pred = model.predict(X)\n",
        "print('Predicted response:', y_pred, sep='\\n')"
      ],
      "metadata": {
        "colab": {
          "base_uri": "https://localhost:8080/"
        },
        "id": "3N2AKHaMMGaA",
        "outputId": "448b7de7-9ebc-4222-b325-0da71fa2d7c5"
      },
      "execution_count": 33,
      "outputs": [
        {
          "output_type": "stream",
          "name": "stdout",
          "text": [
            "coefficient of determination: 0.6030544185841602\n",
            "intercept: [-111085.62189055]\n",
            "slope: [[10894.17910448]]\n",
            "Predicted response:\n",
            "[[30538.70646766]\n",
            " [41432.88557214]\n",
            " [41432.88557214]\n",
            " [41432.88557214]\n",
            " [ 8750.34825871]\n",
            " [30538.70646766]\n",
            " [19644.52736318]\n",
            " [19644.52736318]\n",
            " [52327.06467662]\n",
            " [52327.06467662]\n",
            " [19644.52736318]\n",
            " [30538.70646766]\n",
            " [19644.52736318]\n",
            " [ 8750.34825871]\n",
            " [ 8750.34825871]\n",
            " [19644.52736318]\n",
            " [19644.52736318]\n",
            " [52327.06467662]\n",
            " [19644.52736318]\n",
            " [19644.52736318]\n",
            " [52327.06467662]\n",
            " [30538.70646766]\n",
            " [30538.70646766]\n",
            " [ 8750.34825871]\n",
            " [41432.88557214]\n",
            " [19644.52736318]\n",
            " [19644.52736318]]\n"
          ]
        }
      ]
    },
    {
      "cell_type": "code",
      "source": [
        "X2 = sm.add_constant(X)\n",
        "est = sm.OLS(Y, X2)\n",
        "print('p value is:', est.fit().f_pvalue)"
      ],
      "metadata": {
        "colab": {
          "base_uri": "https://localhost:8080/"
        },
        "id": "W0yZT_bSM6Eg",
        "outputId": "71591018-66f3-4008-ecf5-4546ae2bfe90"
      },
      "execution_count": 34,
      "outputs": [
        {
          "output_type": "stream",
          "name": "stdout",
          "text": [
            "p value is: 1.916627922346076e-06\n"
          ]
        }
      ]
    },
    {
      "cell_type": "markdown",
      "source": [
        "The p value of the regression is lower than 0.05, thus significant. The R^2 = 0.6 thus thus the correlation is quite great. The relationship probably isn't linked to casuality. "
      ],
      "metadata": {
        "id": "Xk-nylZ8NR06"
      }
    },
    {
      "cell_type": "code",
      "source": [
        "xfit = np.linspace(8, 20, 100)\n",
        "yfit = model.predict(xfit[:, np.newaxis])\n",
        "\n",
        "plt.scatter(df.iloc[:,1], df.iloc[:,2])\n",
        "plt.plot(xfit, yfit);\n",
        "plt.show()"
      ],
      "metadata": {
        "colab": {
          "base_uri": "https://localhost:8080/",
          "height": 265
        },
        "id": "7Yw96t9eMLCF",
        "outputId": "7e568e8e-36d8-4ce2-d499-091c619fc990"
      },
      "execution_count": 36,
      "outputs": [
        {
          "output_type": "display_data",
          "data": {
            "text/plain": [
              "<Figure size 432x288 with 1 Axes>"
            ],
            "image/png": "[encoded data removed]"
          },
          "metadata": {
            "needs_background": "light"
          }
        }
      ]
    }
  ]
}